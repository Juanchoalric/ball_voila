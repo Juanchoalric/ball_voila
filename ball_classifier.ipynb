{
 "cells": [
  {
   "cell_type": "code",
   "execution_count": 2,
   "metadata": {},
   "outputs": [
    {
     "name": "stdout",
     "output_type": "stream",
     "text": [
      "Requirement already satisfied: voila in /home/juancruzalric/.pyenv/versions/3.7.4/envs/fastai/lib/python3.7/site-packages (0.2.3)\n",
      "Requirement already satisfied: nbclient<0.6,>=0.4.0 in /home/juancruzalric/.pyenv/versions/3.7.4/envs/fastai/lib/python3.7/site-packages (from voila) (0.5.0)\n",
      "Requirement already satisfied: jupyter-client<7,>=6.1.3 in /home/juancruzalric/.pyenv/versions/3.7.4/envs/fastai/lib/python3.7/site-packages (from voila) (6.1.7)\n",
      "Requirement already satisfied: jupyter-server<2.0.0,>=0.3.0 in /home/juancruzalric/.pyenv/versions/3.7.4/envs/fastai/lib/python3.7/site-packages (from voila) (1.0.1)\n",
      "Requirement already satisfied: nbconvert<7,>=6.0.0 in /home/juancruzalric/.pyenv/versions/3.7.4/envs/fastai/lib/python3.7/site-packages (from voila) (6.0.6)\n",
      "Requirement already satisfied: nbformat>=5.0 in /home/juancruzalric/.pyenv/versions/3.7.4/envs/fastai/lib/python3.7/site-packages (from nbclient<0.6,>=0.4.0->voila) (5.0.7)\n",
      "Requirement already satisfied: async-generator in /home/juancruzalric/.pyenv/versions/3.7.4/envs/fastai/lib/python3.7/site-packages (from nbclient<0.6,>=0.4.0->voila) (1.10)\n",
      "Requirement already satisfied: traitlets>=4.2 in /home/juancruzalric/.pyenv/versions/3.7.4/envs/fastai/lib/python3.7/site-packages (from nbclient<0.6,>=0.4.0->voila) (5.0.4)\n",
      "Requirement already satisfied: nest-asyncio in /home/juancruzalric/.pyenv/versions/3.7.4/envs/fastai/lib/python3.7/site-packages (from nbclient<0.6,>=0.4.0->voila) (1.4.0)\n",
      "Requirement already satisfied: pyzmq>=13 in /home/juancruzalric/.pyenv/versions/3.7.4/envs/fastai/lib/python3.7/site-packages (from jupyter-client<7,>=6.1.3->voila) (19.0.2)\n",
      "Requirement already satisfied: tornado>=4.1 in /home/juancruzalric/.pyenv/versions/3.7.4/envs/fastai/lib/python3.7/site-packages (from jupyter-client<7,>=6.1.3->voila) (6.0.4)\n",
      "Requirement already satisfied: python-dateutil>=2.1 in /home/juancruzalric/.pyenv/versions/3.7.4/envs/fastai/lib/python3.7/site-packages (from jupyter-client<7,>=6.1.3->voila) (2.8.1)\n",
      "Requirement already satisfied: jupyter-core>=4.6.0 in /home/juancruzalric/.pyenv/versions/3.7.4/envs/fastai/lib/python3.7/site-packages (from jupyter-client<7,>=6.1.3->voila) (4.6.3)\n",
      "Requirement already satisfied: prometheus-client in /home/juancruzalric/.pyenv/versions/3.7.4/envs/fastai/lib/python3.7/site-packages (from jupyter-server<2.0.0,>=0.3.0->voila) (0.8.0)\n",
      "Requirement already satisfied: Send2Trash in /home/juancruzalric/.pyenv/versions/3.7.4/envs/fastai/lib/python3.7/site-packages (from jupyter-server<2.0.0,>=0.3.0->voila) (1.5.0)\n",
      "Requirement already satisfied: terminado>=0.8.3 in /home/juancruzalric/.pyenv/versions/3.7.4/envs/fastai/lib/python3.7/site-packages (from jupyter-server<2.0.0,>=0.3.0->voila) (0.9.1)\n",
      "Requirement already satisfied: ipython-genutils in /home/juancruzalric/.pyenv/versions/3.7.4/envs/fastai/lib/python3.7/site-packages (from jupyter-server<2.0.0,>=0.3.0->voila) (0.2.0)\n",
      "Requirement already satisfied: jinja2 in /home/juancruzalric/.pyenv/versions/3.7.4/envs/fastai/lib/python3.7/site-packages (from jupyter-server<2.0.0,>=0.3.0->voila) (2.11.2)\n",
      "Requirement already satisfied: pygments>=2.4.1 in /home/juancruzalric/.pyenv/versions/3.7.4/envs/fastai/lib/python3.7/site-packages (from nbconvert<7,>=6.0.0->voila) (2.7.1)\n",
      "Requirement already satisfied: pandocfilters>=1.4.1 in /home/juancruzalric/.pyenv/versions/3.7.4/envs/fastai/lib/python3.7/site-packages (from nbconvert<7,>=6.0.0->voila) (1.4.2)\n",
      "Requirement already satisfied: entrypoints>=0.2.2 in /home/juancruzalric/.pyenv/versions/3.7.4/envs/fastai/lib/python3.7/site-packages (from nbconvert<7,>=6.0.0->voila) (0.3)\n",
      "Requirement already satisfied: bleach in /home/juancruzalric/.pyenv/versions/3.7.4/envs/fastai/lib/python3.7/site-packages (from nbconvert<7,>=6.0.0->voila) (3.2.1)\n",
      "Requirement already satisfied: mistune<2,>=0.8.1 in /home/juancruzalric/.pyenv/versions/3.7.4/envs/fastai/lib/python3.7/site-packages (from nbconvert<7,>=6.0.0->voila) (0.8.4)\n",
      "Requirement already satisfied: defusedxml in /home/juancruzalric/.pyenv/versions/3.7.4/envs/fastai/lib/python3.7/site-packages (from nbconvert<7,>=6.0.0->voila) (0.6.0)\n",
      "Requirement already satisfied: jupyterlab-pygments in /home/juancruzalric/.pyenv/versions/3.7.4/envs/fastai/lib/python3.7/site-packages (from nbconvert<7,>=6.0.0->voila) (0.1.1)\n",
      "Requirement already satisfied: testpath in /home/juancruzalric/.pyenv/versions/3.7.4/envs/fastai/lib/python3.7/site-packages (from nbconvert<7,>=6.0.0->voila) (0.4.4)\n",
      "Requirement already satisfied: jsonschema!=2.5.0,>=2.4 in /home/juancruzalric/.pyenv/versions/3.7.4/envs/fastai/lib/python3.7/site-packages (from nbformat>=5.0->nbclient<0.6,>=0.4.0->voila) (3.2.0)\n",
      "Requirement already satisfied: six>=1.5 in /home/juancruzalric/.pyenv/versions/3.7.4/envs/fastai/lib/python3.7/site-packages (from python-dateutil>=2.1->jupyter-client<7,>=6.1.3->voila) (1.15.0)\n",
      "Requirement already satisfied: ptyprocess; os_name != \"nt\" in /home/juancruzalric/.pyenv/versions/3.7.4/envs/fastai/lib/python3.7/site-packages (from terminado>=0.8.3->jupyter-server<2.0.0,>=0.3.0->voila) (0.6.0)\n",
      "Requirement already satisfied: MarkupSafe>=0.23 in /home/juancruzalric/.pyenv/versions/3.7.4/envs/fastai/lib/python3.7/site-packages (from jinja2->jupyter-server<2.0.0,>=0.3.0->voila) (1.1.1)\n",
      "Requirement already satisfied: webencodings in /home/juancruzalric/.pyenv/versions/3.7.4/envs/fastai/lib/python3.7/site-packages (from bleach->nbconvert<7,>=6.0.0->voila) (0.5.1)\n",
      "Requirement already satisfied: packaging in /home/juancruzalric/.pyenv/versions/3.7.4/envs/fastai/lib/python3.7/site-packages (from bleach->nbconvert<7,>=6.0.0->voila) (20.4)\n",
      "Requirement already satisfied: attrs>=17.4.0 in /home/juancruzalric/.pyenv/versions/3.7.4/envs/fastai/lib/python3.7/site-packages (from jsonschema!=2.5.0,>=2.4->nbformat>=5.0->nbclient<0.6,>=0.4.0->voila) (20.2.0)\n",
      "Requirement already satisfied: setuptools in /home/juancruzalric/.pyenv/versions/3.7.4/envs/fastai/lib/python3.7/site-packages (from jsonschema!=2.5.0,>=2.4->nbformat>=5.0->nbclient<0.6,>=0.4.0->voila) (40.8.0)\n",
      "Requirement already satisfied: pyrsistent>=0.14.0 in /home/juancruzalric/.pyenv/versions/3.7.4/envs/fastai/lib/python3.7/site-packages (from jsonschema!=2.5.0,>=2.4->nbformat>=5.0->nbclient<0.6,>=0.4.0->voila) (0.17.3)\n",
      "Requirement already satisfied: importlib-metadata; python_version < \"3.8\" in /home/juancruzalric/.pyenv/versions/3.7.4/envs/fastai/lib/python3.7/site-packages (from jsonschema!=2.5.0,>=2.4->nbformat>=5.0->nbclient<0.6,>=0.4.0->voila) (1.7.0)\n",
      "Requirement already satisfied: pyparsing>=2.0.2 in /home/juancruzalric/.pyenv/versions/3.7.4/envs/fastai/lib/python3.7/site-packages (from packaging->bleach->nbconvert<7,>=6.0.0->voila) (2.4.7)\n",
      "Requirement already satisfied: zipp>=0.5 in /home/juancruzalric/.pyenv/versions/3.7.4/envs/fastai/lib/python3.7/site-packages (from importlib-metadata; python_version < \"3.8\"->jsonschema!=2.5.0,>=2.4->nbformat>=5.0->nbclient<0.6,>=0.4.0->voila) (3.1.0)\n",
      "\u001b[33mYou are using pip version 19.0.3, however version 20.2.3 is available.\n",
      "You should consider upgrading via the 'pip install --upgrade pip' command.\u001b[0m\n",
      "Enabling: voila\n",
      "- Writing config: /home/juancruzalric/.pyenv/versions/3.7.4/envs/fastai/etc/jupyter\n",
      "    - Validating...\n",
      "      voila 0.2.3 \u001b[32mOK\u001b[0m\n"
     ]
    }
   ],
   "source": [
    "!pip install voila\n",
    "!jupyter serverextension enable voila --sys-prefix"
   ]
  },
  {
   "cell_type": "code",
   "execution_count": 3,
   "metadata": {},
   "outputs": [],
   "source": [
    "from fastai.vision.all import *\n",
    "from fastai.vision.widgets import *"
   ]
  },
  {
   "cell_type": "markdown",
   "metadata": {},
   "source": [
    "# Welcome to the best Ball Classifier"
   ]
  },
  {
   "cell_type": "markdown",
   "metadata": {},
   "source": [
    "Just enter an image ball of one of this sports (soccer, rugby, golf, volleyball) We will classify it for you. You dont need to worry!!! We are really good at our job. Just try it out and see it for yourself :)"
   ]
  },
  {
   "cell_type": "code",
   "execution_count": 4,
   "metadata": {},
   "outputs": [],
   "source": [
    "path= Path()\n",
    "learn_inf = load_learner(path/'export.pkl', cpu=True)\n",
    "btn_upload = widgets.FileUpload()\n",
    "out_pl = widgets.Output()\n",
    "lbl_pred = widgets.Label()"
   ]
  },
  {
   "cell_type": "code",
   "execution_count": 5,
   "metadata": {},
   "outputs": [],
   "source": [
    "def on_click(change):\n",
    "    img= PILImage.create(btn_upload.data[-1])\n",
    "    out_pl.clear_output()\n",
    "    with out_pl: display(img.to_thumb(128,128))\n",
    "    pred, pred_index, probs = learn_inf.predict(img)\n",
    "    lbl_pred.value = f'Prediction: {pred}; Probability: {probs[pred_index]:.4f}'"
   ]
  },
  {
   "cell_type": "code",
   "execution_count": 6,
   "metadata": {},
   "outputs": [],
   "source": [
    "btn_upload.observe(on_click, names=['data'])"
   ]
  },
  {
   "cell_type": "code",
   "execution_count": 9,
   "metadata": {},
   "outputs": [
    {
     "data": {
      "application/vnd.jupyter.widget-view+json": {
       "model_id": "35f17017b2514d548ed40bc3c7171665",
       "version_major": 2,
       "version_minor": 0
      },
      "text/plain": [
       "VBox(children=(Label(value='Select your ball!'), FileUpload(value={}, description='Upload'), Output(), Label(v…"
      ]
     },
     "metadata": {},
     "output_type": "display_data"
    }
   ],
   "source": [
    "display(VBox([widgets.Label('Select your ball!'), btn_upload, out_pl, lbl_pred]))"
   ]
  },
  {
   "cell_type": "code",
   "execution_count": null,
   "metadata": {},
   "outputs": [],
   "source": []
  }
 ],
 "metadata": {
  "kernelspec": {
   "display_name": "Python 3",
   "language": "python",
   "name": "python3"
  },
  "language_info": {
   "codemirror_mode": {
    "name": "ipython",
    "version": 3
   },
   "file_extension": ".py",
   "mimetype": "text/x-python",
   "name": "python",
   "nbconvert_exporter": "python",
   "pygments_lexer": "ipython3",
   "version": "3.7.4"
  }
 },
 "nbformat": 4,
 "nbformat_minor": 4
}
